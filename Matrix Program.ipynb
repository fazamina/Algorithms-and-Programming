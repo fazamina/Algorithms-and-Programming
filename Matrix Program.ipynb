{
 "cells": [
  {
   "cell_type": "code",
   "execution_count": 12,
   "metadata": {},
   "outputs": [],
   "source": [
    "import numpy as np"
   ]
  },
  {
   "cell_type": "code",
   "execution_count": 13,
   "metadata": {},
   "outputs": [],
   "source": [
    "def matriks_ajaib(n):\n",
    "    matriks = np.array([[0 for i in range(len(n))] for i in range(len(n))])\n",
    "    for i in range(len(n)):\n",
    "        for j in range(len(n)):\n",
    "            if i<j:\n",
    "                matriks[i, j] = n[i]-n[j]\n",
    "            elif i>j:\n",
    "                matriks[i, j] = n[i]+n[j]\n",
    "    value=np.array(matriks)\n",
    "    for i in range(len(n)):\n",
    "        value[i][i]=1\n",
    "    for i in range(len(n)):\n",
    "        x=np.delete(value,i,0)\n",
    "        y=np.delete(x,i,1)\n",
    "        matriks[i][j]=int(np.linalg.det(y))*value[i][i]\n",
    "    return np.matrix(matriks)"
   ]
  },
  {
   "cell_type": "code",
   "execution_count": 14,
   "metadata": {},
   "outputs": [
    {
     "data": {
      "text/plain": [
       "matrix([[  0,  -1,  -2, -38],\n",
       "        [  3,   0,  -1, -43],\n",
       "        [  4,   5,   0, -13],\n",
       "        [  5,   6,   7,  -9]])"
      ]
     },
     "execution_count": 14,
     "metadata": {},
     "output_type": "execute_result"
    }
   ],
   "source": [
    "matriks_ajaib([1,2,3,4])"
   ]
  },
  {
   "cell_type": "code",
   "execution_count": 15,
   "metadata": {},
   "outputs": [
    {
     "data": {
      "text/plain": [
       "matrix([[      0,      -1,      -2,      -3,      -4, -168557],\n",
       "        [     11,       0,      -1,      -2,      -3, -190639],\n",
       "        [     12,      13,       0,      -1,      -2, -155383],\n",
       "        [     13,      14,      15,       0,      -1, -134432],\n",
       "        [     14,      15,      16,      17,       0, -119389],\n",
       "        [     15,      16,      17,      18,      19,  -91510]])"
      ]
     },
     "execution_count": 15,
     "metadata": {},
     "output_type": "execute_result"
    }
   ],
   "source": [
    "matriks_ajaib([5,6,7,8,9,10])"
   ]
  },
  {
   "cell_type": "code",
   "execution_count": null,
   "metadata": {},
   "outputs": [],
   "source": []
  }
 ],
 "metadata": {
  "kernelspec": {
   "display_name": "Python 3",
   "language": "python",
   "name": "python3"
  },
  "language_info": {
   "codemirror_mode": {
    "name": "ipython",
    "version": 3
   },
   "file_extension": ".py",
   "mimetype": "text/x-python",
   "name": "python",
   "nbconvert_exporter": "python",
   "pygments_lexer": "ipython3",
   "version": "3.8.3"
  }
 },
 "nbformat": 4,
 "nbformat_minor": 4
}
