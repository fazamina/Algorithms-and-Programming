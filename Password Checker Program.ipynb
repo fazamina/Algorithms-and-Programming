{
 "cells": [
  {
   "cell_type": "code",
   "execution_count": 1,
   "metadata": {
    "colab": {
     "base_uri": "https://localhost:8080/"
    },
    "id": "rwGcLiaJGXNH",
    "outputId": "94a36b29-21b0-4fa5-a504-d8b9bd62dcbc"
   },
   "outputs": [
    {
     "name": "stdout",
     "output_type": "stream",
     "text": [
      "-Selamat datang di PasswordChecker-\n",
      "PasswordChecker adalah program yang dapat memeriksa kekuatan suatu password.\n",
      " \n",
      "Suatu password dikatakan kuat apabila memenuhi semua syarat berikut: \n",
      "1. Memiliki panjang 8-32 karakter\n",
      "2. Mengandung setidaknya satu huruf kapital\n",
      "3. Mengandung setidaknya satu huruf kecil\n",
      "4. Mengandung setidaknya satu angka\n",
      "5. Mengandung paling banyak 2 karakter berurutan yang sama\n",
      "6. Mengandung paling banyak 2 angka berurutan\n",
      " \n",
      "PasswordChecker akan mereturn nilai 0 apabila password sudah kuat,\n",
      "atau akan mereturn nilai 1 mengindikasikan password belum kuat serta [..] adalah nomor syarat mengikuti daftar yang tertera di atas\n",
      " \n",
      "Masukkan password Anda: FAjakartaZ4\n",
      "0 "
     ]
    }
   ],
   "source": [
    "#Deskripsi program\n",
    "print('-Selamat datang di PasswordChecker-')\n",
    "print('PasswordChecker adalah program yang dapat memeriksa kekuatan suatu password.') \n",
    "print(' ')\n",
    "print('Suatu password dikatakan kuat apabila memenuhi semua syarat berikut: ')\n",
    "print('1. Memiliki panjang 8-32 karakter')\n",
    "print('2. Mengandung setidaknya satu huruf kapital')\n",
    "print('3. Mengandung setidaknya satu huruf kecil')\n",
    "print('4. Mengandung setidaknya satu angka')\n",
    "print('5. Mengandung paling banyak 2 karakter berurutan yang sama')\n",
    "print('6. Mengandung paling banyak 2 angka berurutan')\n",
    "print(' ')\n",
    "print('PasswordChecker akan mereturn nilai 0 apabila password sudah kuat,')\n",
    "print('atau akan mereturn nilai 1 mengindikasikan password belum kuat serta [..] adalah nomor syarat mengikuti daftar yang tertera di atas')\n",
    "print(' ')\n",
    "\n",
    "#Asumsi awal\n",
    "password = input(\"Masukkan password Anda: \") \n",
    "value = 0 \n",
    "check = [] \n",
    "char = 0 \n",
    "add = 0 \n",
    "\n",
    "#Memeriksa panjang karakter\n",
    "if len(password) < 8 or len(password) > 32: \n",
    "    value = 1 \n",
    "    check.append(1) \n",
    "\n",
    "#Memeriksa huruf kapital\n",
    "if not any(char.isupper() for char in password): \n",
    "    value = 1 \n",
    "    check.append(2) \n",
    "\n",
    "#Memeriksa huruf kecil\n",
    "if not any(char.islower() for char in password): \n",
    "    value = 1 \n",
    "    check.append(3)\n",
    "\n",
    "#Memeriksa angka\n",
    "if not any(char.isdigit() for char in password): \n",
    "    value = 1\n",
    "    check.append(4) \n",
    "\n",
    "#Memeriksa maksimal 2 karakter sama berurutan\n",
    "for i in range (len(password)): \n",
    "    if (i > 0): \n",
    "        if (password[i] == password[i-1]): \n",
    "            char += 1 \n",
    "        else: \n",
    "            char = 0 \n",
    "        if (char > 1): \n",
    "            value = 1 \n",
    "            check.append(5) \n",
    "            break \n",
    "\n",
    "#Memeriksa maksimal 2 angka berurutan\n",
    "for i in range (len(password)): \n",
    "    if (password[i] == \"1\" or password[i] == \"2\" or password[i] == \"3\" or password[i] == \"4\" or password[i] == \"5\" or password[i] == \"6\" or password[i] == \"7\" or password[i] == \"8\" or password[i] == \"9\" or password[i] == \"0\"): \n",
    "        if (i > 0): \n",
    "            if (password[i-1] == \"1\" or password[i-1] == \"2\" or password[i-1] == \"3\" or password[i-1] == \"4\" or password[i-1] == \"5\" or password[i-1] == \"6\" or password[i-1] == \"7\" or password[i-1] == \"8\" or password[i-1] == \"9\" or password[i-1] == \"0\"): \n",
    "                if (int(password[i]) == int(password[i-1])+1): \n",
    "                    add += 1 \n",
    "                else: \n",
    "                    add = 0 \n",
    "                if (add > 1): \n",
    "                    value = 1 \n",
    "                    check.append(6) \n",
    "                    break \n",
    "\n",
    "#Meng-output hasil\n",
    "print(value, end = \" \") \n",
    "if (check != []):\n",
    "    print(check)"
   ]
  },
  {
   "cell_type": "code",
   "execution_count": null,
   "metadata": {},
   "outputs": [],
   "source": []
  }
 ],
 "metadata": {
  "colab": {
   "collapsed_sections": [],
   "name": "2006523672_Faza Muthmainnah_Alprog_Nomor 1",
   "provenance": []
  },
  "kernelspec": {
   "display_name": "Python 3",
   "language": "python",
   "name": "python3"
  },
  "language_info": {
   "codemirror_mode": {
    "name": "ipython",
    "version": 3
   },
   "file_extension": ".py",
   "mimetype": "text/x-python",
   "name": "python",
   "nbconvert_exporter": "python",
   "pygments_lexer": "ipython3",
   "version": "3.8.3"
  }
 },
 "nbformat": 4,
 "nbformat_minor": 1
}
