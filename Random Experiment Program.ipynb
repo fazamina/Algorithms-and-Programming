{
 "cells": [
  {
   "cell_type": "code",
   "execution_count": 1,
   "metadata": {},
   "outputs": [],
   "source": [
    "import random"
   ]
  },
  {
   "cell_type": "code",
   "execution_count": 1,
   "metadata": {},
   "outputs": [],
   "source": [
    "def makansalak(jumlah, percobaan, opsi):\n",
    "    for i in range(1, percobaan+1):\n",
    "        k=jumlah\n",
    "        if opsi==2:\n",
    "            print(f'Percobaan ke {i}')\n",
    "            print('_________________')\n",
    "        pertama=[]\n",
    "        hari=1\n",
    "        while k>0:\n",
    "            s=random.random()\n",
    "            if s<=0.5:\n",
    "                if opsi==2:\n",
    "                    print(f'Hari {hari}: Makan 1 salak')\n",
    "                hari += 1\n",
    "                k -= 1\n",
    "            else:\n",
    "                if k%2:\n",
    "                    if opsi==2:\n",
    "                        print(f'Hari {hari}: Makan {(k//5)+1} salak')\n",
    "                    hari += 1\n",
    "                    k -= ((k//5)+1)\n",
    "                else:\n",
    "                    if opsi==2:\n",
    "                        print(f'Hari {hari}: Makan {(k//4)} salak')\n",
    "                    hari += 1\n",
    "                    k -= ((k//4))\n",
    "        pertama.append(hari)\n",
    "    print(f'Rata-rata Hari: {sum(pertama)/len(pertama)}')"
   ]
  },
  {
   "cell_type": "code",
   "execution_count": 3,
   "metadata": {},
   "outputs": [
    {
     "name": "stdout",
     "output_type": "stream",
     "text": [
      "Percobaan ke 1\n",
      "_________________\n",
      "Hari 1: Makan 5 salak\n",
      "Hari 2: Makan 1 salak\n",
      "Hari 3: Makan 3 salak\n",
      "Hari 4: Makan 3 salak\n",
      "Hari 5: Makan 2 salak\n",
      "Hari 6: Makan 1 salak\n",
      "Hari 7: Makan 1 salak\n",
      "Hari 8: Makan 1 salak\n",
      "Hari 9: Makan 1 salak\n",
      "Hari 10: Makan 0 salak\n",
      "Hari 11: Makan 1 salak\n",
      "Hari 12: Makan 1 salak\n",
      "Percobaan ke 2\n",
      "_________________\n",
      "Hari 1: Makan 1 salak\n",
      "Hari 2: Makan 1 salak\n",
      "Hari 3: Makan 1 salak\n",
      "Hari 4: Makan 1 salak\n",
      "Hari 5: Makan 1 salak\n",
      "Hari 6: Makan 4 salak\n",
      "Hari 7: Makan 1 salak\n",
      "Hari 8: Makan 1 salak\n",
      "Hari 9: Makan 2 salak\n",
      "Hari 10: Makan 2 salak\n",
      "Hari 11: Makan 1 salak\n",
      "Hari 12: Makan 1 salak\n",
      "Hari 13: Makan 1 salak\n",
      "Hari 14: Makan 0 salak\n",
      "Hari 15: Makan 0 salak\n",
      "Hari 16: Makan 1 salak\n",
      "Hari 17: Makan 1 salak\n",
      "Rata-rata Hari: 18.0\n"
     ]
    }
   ],
   "source": [
    "makansalak(20,2,2)"
   ]
  },
  {
   "cell_type": "code",
   "execution_count": null,
   "metadata": {},
   "outputs": [],
   "source": []
  }
 ],
 "metadata": {
  "kernelspec": {
   "display_name": "Python 3",
   "language": "python",
   "name": "python3"
  },
  "language_info": {
   "codemirror_mode": {
    "name": "ipython",
    "version": 3
   },
   "file_extension": ".py",
   "mimetype": "text/x-python",
   "name": "python",
   "nbconvert_exporter": "python",
   "pygments_lexer": "ipython3",
   "version": "3.8.3"
  }
 },
 "nbformat": 4,
 "nbformat_minor": 4
}
